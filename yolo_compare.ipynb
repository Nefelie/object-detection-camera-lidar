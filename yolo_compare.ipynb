{
 "cells": [
  {
   "cell_type": "code",
   "execution_count": 7,
   "metadata": {},
   "outputs": [
    {
     "name": "stdout",
     "output_type": "stream",
     "text": [
      "Downloading https://github.com/ultralytics/assets/releases/download/v8.2.0/yolov8x.pt to 'yolov8x.pt'...\n"
     ]
    },
    {
     "name": "stderr",
     "output_type": "stream",
     "text": [
      "100%|██████████| 131M/131M [00:02<00:00, 48.3MB/s] \n"
     ]
    },
    {
     "name": "stdout",
     "output_type": "stream",
     "text": [
      "\n",
      "image 1/1 C:\\Users\\Nefelie\\OneDrive - University of Southampton\\Uni\\4th Year\\GDP\\LINUX\\19-04\\0.9 MP\\camera_logs\\L_1_488.jpeg: 384x640 3 boats, 542.0ms\n",
      "Speed: 3.0ms preprocess, 542.0ms inference, 977.9ms postprocess per image at shape (1, 3, 384, 640)\n",
      "Results saved to \u001b[1mruns\\detect\\predict\u001b[0m\n"
     ]
    }
   ],
   "source": [
    "from ultralytics import YOLO\n",
    "import cv2\n",
    "\n",
    "model = YOLO(\"yolov8x.pt\")\n",
    "results = model.predict(source=r\"C:\\Users\\Nefelie\\OneDrive - University of Southampton\\Uni\\4th Year\\GDP\\LINUX\\19-04\\0.9 MP\\camera_logs\\L_1_488.jpeg\", save=True) \n"
   ]
  },
  {
   "cell_type": "code",
   "execution_count": 8,
   "metadata": {},
   "outputs": [
    {
     "name": "stdout",
     "output_type": "stream",
     "text": [
      "\n",
      "image 1/1 C:\\Users\\Nefelie\\OneDrive - University of Southampton\\Uni\\4th Year\\GDP\\LINUX\\08-04\\iceberg_boat\\camera_logs\\L_2_18.jpeg: 384x640 3 boats, 447.0ms\n",
      "Speed: 7.0ms preprocess, 447.0ms inference, 5.0ms postprocess per image at shape (1, 3, 384, 640)\n",
      "Results saved to \u001b[1mruns\\detect\\predict\u001b[0m\n"
     ]
    }
   ],
   "source": [
    "results = model.predict(source=r\"C:\\Users\\Nefelie\\OneDrive - University of Southampton\\Uni\\4th Year\\GDP\\LINUX\\08-04\\iceberg_boat\\camera_logs\\L_2_18.jpeg\", save=True) \n"
   ]
  },
  {
   "cell_type": "code",
   "execution_count": 10,
   "metadata": {},
   "outputs": [
    {
     "name": "stdout",
     "output_type": "stream",
     "text": [
      "\n",
      "image 1/1 C:\\Users\\Nefelie\\OneDrive - University of Southampton\\Uni\\4th Year\\GDP\\LINUX\\18-04\\shipping_container_140\\camera_logs\\L_2_18.jpeg: 384x640 (no detections), 447.3ms\n",
      "Speed: 3.0ms preprocess, 447.3ms inference, 1.0ms postprocess per image at shape (1, 3, 384, 640)\n",
      "Results saved to \u001b[1mruns\\detect\\predict\u001b[0m\n"
     ]
    }
   ],
   "source": [
    "results = model.predict(source=r\"C:\\Users\\Nefelie\\OneDrive - University of Southampton\\Uni\\4th Year\\GDP\\LINUX\\18-04\\shipping_container_140\\camera_logs\\L_2_18.jpeg\", save=True) \n"
   ]
  },
  {
   "cell_type": "code",
   "execution_count": 11,
   "metadata": {},
   "outputs": [
    {
     "name": "stdout",
     "output_type": "stream",
     "text": [
      "\n",
      "image 1/1 C:\\Users\\Nefelie\\OneDrive - University of Southampton\\Uni\\4th Year\\GDP\\LINUX\\08-04\\iceberg_containers\\camera_logs\\L_26_6.jpeg: 384x640 (no detections), 415.0ms\n",
      "Speed: 1.0ms preprocess, 415.0ms inference, 0.0ms postprocess per image at shape (1, 3, 384, 640)\n",
      "Results saved to \u001b[1mruns\\detect\\predict\u001b[0m\n"
     ]
    }
   ],
   "source": [
    "results = model.predict(source=r\"C:\\Users\\Nefelie\\OneDrive - University of Southampton\\Uni\\4th Year\\GDP\\LINUX\\08-04\\iceberg_containers\\camera_logs\\L_26_6.jpeg\", save=True) \n",
    "\n"
   ]
  }
 ],
 "metadata": {
  "kernelspec": {
   "display_name": "ultralytics-env",
   "language": "python",
   "name": "python3"
  },
  "language_info": {
   "codemirror_mode": {
    "name": "ipython",
    "version": 3
   },
   "file_extension": ".py",
   "mimetype": "text/x-python",
   "name": "python",
   "nbconvert_exporter": "python",
   "pygments_lexer": "ipython3",
   "version": "3.8.19"
  }
 },
 "nbformat": 4,
 "nbformat_minor": 2
}
